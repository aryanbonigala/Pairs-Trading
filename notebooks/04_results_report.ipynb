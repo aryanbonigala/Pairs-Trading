{
 "cells": [
  {
   "cell_type": "code",
   "execution_count": null,
   "id": "25da1092",
   "metadata": {},
   "outputs": [],
   "source": [
    "from src.data import get_price_data\n",
    "from src.stats import hedge_ratio\n",
    "from src.backtest import backtest_pair\n",
    "from src.eval import metrics, plot_equity_curve, plot_drawdowns, plot_rolling_sharpe, plot_zscore_with_trades\n",
    "import matplotlib.pyplot as plt\n",
    "\n",
    "px = get_price_data([\"KO\", \"PEP\"], start=\"2018-01-01\", end=\"2025-01-01\")\n",
    "\n",
    "beta = hedge_ratio(px[\"PEP\"], px[\"KO\"])\n",
    "results = backtest_pair(\n",
    "\tpx[\"KO\"], px[\"PEP\"], beta,\n",
    "\tparams={\"lookback\": 60, \"z_in\": 2.0, \"z_out\": 0.5, \"stop\": 3.5, \"cost_bps\": 2.0}\n",
    ")\n",
    "\n",
    "m = metrics(results[\"ret\"])  # daily returns\n",
    "print(m)\n",
    "\n",
    "fig, axes = plt.subplots(3, 1, figsize=(10, 10), sharex=True)\n",
    "plot_equity_curve(results[\"ret\"], ax=axes[0])\n",
    "plot_drawdowns(results[\"ret\"], ax=axes[1])\n",
    "plot_rolling_sharpe(results[\"ret\"], ax=axes[2])\n",
    "plt.tight_layout(); plt.show()\n",
    "\n",
    "fig, ax = plt.subplots(figsize=(10, 4))\n",
    "plot_zscore_with_trades(\n",
    "\tz=results[\"z\"], z_in=2.0, z_out=0.5, stop=3.5, y_pos=results[\"y_pos\"], ax=ax\n",
    ")\n",
    "plt.tight_layout(); plt.show()\n"
   ]
  }
 ],
 "metadata": {
  "language_info": {
   "name": "python"
  }
 },
 "nbformat": 4,
 "nbformat_minor": 5
}
