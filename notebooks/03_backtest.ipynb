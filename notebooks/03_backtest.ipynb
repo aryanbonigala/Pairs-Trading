{
 "cells": [
  {
   "cell_type": "code",
   "execution_count": null,
   "id": "c7ecb585",
   "metadata": {},
   "outputs": [],
   "source": [
    "from src.data import get_price_data\n",
    "from src.stats import hedge_ratio\n",
    "from src.backtest import backtest_pair\n",
    "\n",
    "px = get_price_data([\"KO\", \"PEP\"], start=\"2018-01-01\", end=\"2025-01-01\")\n",
    "\n",
    "beta = hedge_ratio(px[\"PEP\"], px[\"KO\"])\n",
    "results = backtest_pair(\n",
    "\tpx[\"KO\"], px[\"PEP\"], beta,\n",
    "\tparams={\"lookback\": 60, \"z_in\": 2.0, \"z_out\": 0.5, \"stop\": 3.5, \"cost_bps\": 2.0}\n",
    ")\n",
    "results.tail()\n"
   ]
  }
 ],
 "metadata": {
  "language_info": {
   "name": "python"
  }
 },
 "nbformat": 4,
 "nbformat_minor": 5
}
