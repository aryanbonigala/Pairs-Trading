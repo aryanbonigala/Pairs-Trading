{
 "cells": [
  {
   "cell_type": "code",
   "execution_count": null,
   "id": "5ece5c2b",
   "metadata": {},
   "outputs": [],
   "source": [
    "from src.data import get_price_data\n",
    "\n",
    "tickers = [\"KO\", \"PEP\", \"XOM\", \"CVX\"]\n",
    "px = get_price_data(tickers, start=\"2018-01-01\", end=\"2025-01-01\")\n",
    "px.head()\n"
   ]
  }
 ],
 "metadata": {
  "language_info": {
   "name": "python"
  }
 },
 "nbformat": 4,
 "nbformat_minor": 5
}
