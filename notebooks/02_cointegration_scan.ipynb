{
 "cells": [
  {
   "cell_type": "code",
   "execution_count": null,
   "id": "9b4941b9",
   "metadata": {},
   "outputs": [],
   "source": [
    "from src.stats import hedge_ratio, adf_pvalue, half_life\n",
    "from src.data import get_price_data\n",
    "\n",
    "px = get_price_data([\"KO\", \"PEP\"], start=\"2018-01-01\", end=\"2025-01-01\")\n",
    "\n",
    "beta = hedge_ratio(px[\"PEP\"], px[\"KO\"])\n",
    "spread = px[\"PEP\"] - beta * px[\"KO\"]\n",
    "print(\"Beta:\", beta)\n",
    "print(\"ADF p-value:\", adf_pvalue(spread))\n",
    "print(\"Half-life:\", half_life(spread))\n"
   ]
  }
 ],
 "metadata": {
  "language_info": {
   "name": "python"
  }
 },
 "nbformat": 4,
 "nbformat_minor": 5
}
